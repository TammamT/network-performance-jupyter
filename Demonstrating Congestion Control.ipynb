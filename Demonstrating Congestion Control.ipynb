{
 "cells": [
  {
   "cell_type": "markdown",
   "metadata": {},
   "source": [
    "# Demonstrating TCP Congestion Control\n",
    " \n",
    " ## Summary\n",
    " \n",
    "Congestion happens in TCP when computers connected to a single link put more network packets onto the link than the link can support. Because TCP has a 100% transmission guarantee, if a sender detects lost packets, it will resend them. This will make the problem of congestion even worse.\n",
    "\n",
    "In this Jupyter Notebook, I provide an easy way of writing and testing out different approaches to [congestion control](https://en.wikipedia.org/wiki/TCP_congestion_control), and provide an implementation of one of the original TCP congestion control approaches.\n",
    "\n",
    "This uses [mahimahi](http://mahimahi.mit.edu/), a tool that allows network protocol developers to test different network conditions on a single machine. It comes with a bunch of options to spin up lightweight network containers that have links with different qualities. For instance, if you want to to test a link with a particular network delay, bandwidth, or queue size, you can do that quite easily.\n",
    "\n",
    "The logic behind the setup here was inspired by work done in developing [indigo](https://github.com/StanfordSNR/indigo/tree/master/env), a reinforcement learning-based congestion control algorithm.\n",
    " \n",
    " ## Installation\n",
    " \n",
    " I've only tested this on Ubuntu--if you are using MacOS or another operating system, I highly suggest using [Vagrant](https://www.vagrantup.com) to spin up a VM.\n",
    " \n",
    " ```bash\n",
    "$ sudo apt-get update\n",
    "$ sudo apt-get install mahimahi python-pip -y\n",
    "$ sudo apt-get install python3-pip\n",
    "$ pip3 install -r requirements.txt\n",
    "\n",
    "$ # This needs to run every time you restart the computer\n",
    "$ sudo sysctl -w net.ipv4.ip_forward=1\n",
    " ```\n",
    " \n",
    " ## Usage\n",
    " \n",
    "Scroll down to the bottom of the notebook to see full examples, but here's a quick start:\n",
    "\n",
    "```python\n",
    "\n",
    "mahimahi_settings = {\n",
    "    'delay': 100,\n",
    "    'queue_size': 1,\n",
    "    'trace_file': TRACE_FILES['114.68MBPS']\n",
    "}\n",
    "\n",
    "run_with_mahi_settings(mahimahi_settings, 10, [Sender(port, TahoeStrategy(10, 1))])\n",
    "```\n",
    "\n",
    "The `run_with_mahi_settings` function takes some settings, notably a `delay`, `queue_size`, and `trace_file`, along with a number of seconds that it should run for and a congestion control strategy, and then prints out some statistics on what happened. What this does is create a single sender/receiver pair that send UDP packets to one another over the mahimahi boundary.\n",
    "\n",
    "This UDP connection, while not actually TCP, is a decent way of simulating how TCP would perform over those\n",
    "network conditions, with the selected strategy.\n",
    "\n",
    "### Writing a congestion control strategy\n",
    "\n",
    "All congestion control strategies must inherit from `SenderStrategy`, and implement the methods `next_packet_to_send` and `process_ack`. See the `FixedWindowStrategy` in `src/strategies.py` for the simplest example of this.\n",
    "\n",
    " \n",
    " ## More Details\n",
    " \n",
    " ### Trace Files\n",
    " \n",
    " The trace files were taken from [this repo](https://github.com/StanfordSNR/indigo/tree/master/env)\n",
    " \n",
    " This repository comes with a number of trace files in the `traces/` folder. These were taken from [this repo](https://github.com/StanfordSNR/indigo/tree/master/env). Each of these is a list of timestamps\n",
    " at which the link can send a 1500 byte packet, and it is used to set the bandwidth of the network. For a 12mbps\n",
    " (1500 bytes), it would contain numbers matching:\n",
    " \n",
    " ```\n",
    " 1\n",
    " 2\n",
    " 3\n",
    " 4\n",
    " ...\n",
    " ```"
   ]
  },
  {
   "cell_type": "code",
   "execution_count": 1,
   "metadata": {},
   "outputs": [],
   "source": [
    "import socket\n",
    "import select\n",
    "import json\n",
    "import time\n",
    "import matplotlib.pyplot as plt\n",
    "from typing import Dict, List, Optional\n",
    "from src.helpers import run_with_mahi_settings, get_open_udp_port\n",
    "from src.senders import Sender\n",
    "from src.strategies import FixedWindowStrategy\n"
   ]
  },
  {
   "cell_type": "code",
   "execution_count": 2,
   "metadata": {},
   "outputs": [],
   "source": [
    "TRACE_FILES = {\n",
    "    '0.57MBPS': '0.57mbps-poisson.trace',\n",
    "    '2.64MBPS': '2.64mbps-poisson.trace',\n",
    "    '3.04MBPS': '3.04mbps-poisson.trace',\n",
    "    '100.42MBPS': '100.42mbps.trace',\n",
    "    '114.68MBPS': '114.68mbps.trace'\n",
    "}"
   ]
  },
  {
   "cell_type": "markdown",
   "metadata": {},
   "source": [
    "## With No Congestion Control\n",
    "\n",
    "The `FixedWindowStrategy` does not do any congestion control, and very simply sends a fixed number of packets on every timestep."
   ]
  },
  {
   "cell_type": "code",
   "execution_count": 3,
   "metadata": {},
   "outputs": [
    {
     "name": "stdout",
     "output_type": "stream",
     "text": [
      "[sender] Connected to receiver: 100.64.0.18:57588\n",
      "\n",
      "Results for sender 38948:\n",
      "Total Acks: 58716\n",
      "Num Duplicate Acks: 56851\n",
      "% duplicate acks: 96.823694\n",
      "Throughput (bytes/s): 46625.000000\n",
      "Average RTT (ms): 428.830552\n"
     ]
    },
    {
     "data": {
      "image/png": "[encoded data removed]",
      "text/plain": [
       "<Figure size 432x288 with 1 Axes>"
      ]
     },
     "metadata": {},
     "output_type": "display_data"
    },
    {
     "data": {
      "image/png": "[encoded data removed]",
      "text/plain": [
       "<Figure size 432x288 with 1 Axes>"
      ]
     },
     "metadata": {},
     "output_type": "display_data"
    },
    {
     "name": "stdout",
     "output_type": "stream",
     "text": [
      "\n"
     ]
    },
    {
     "data": {
      "image/png": "[encoded data removed]",
      "text/plain": [
       "<Figure size 432x288 with 1 Axes>"
      ]
     },
     "metadata": {},
     "output_type": "display_data"
    },
    {
     "name": "stdout",
     "output_type": "stream",
     "text": [
      "\n"
     ]
    }
   ],
   "source": [
    "mahimahi_settings = {\n",
    "    'delay': 88,\n",
    "    'queue_size': 40,\n",
    "    'trace_file': TRACE_FILES['2.64MBPS']\n",
    "}\n",
    "\n",
    "port = get_open_udp_port()\n",
    "run_with_mahi_settings(mahimahi_settings, 60, [Sender(port, FixedWindowStrategy(200))])"
   ]
  },
  {
   "cell_type": "markdown",
   "metadata": {},
   "source": [
    "# Congestion Control with Tahoe\n",
    "\n",
    "-- talk about the basics & how this is based around adjusting the congestion window.\n",
    "\n",
    "TCP Tahoe is one of the first congestion control algorithms implemented. A rough sketch of its implementation is that it has two phases, slow start and congestion avoidance.\n",
    "\n",
    "In the slow start phase, t"
   ]
  },
  {
   "cell_type": "code",
   "execution_count": null,
   "metadata": {},
   "outputs": [],
   "source": []
  }
 ],
 "metadata": {
  "kernelspec": {
   "display_name": "Python 3",
   "language": "python",
   "name": "python3"
  },
  "language_info": {
   "codemirror_mode": {
    "name": "ipython",
    "version": 3
   },
   "file_extension": ".py",
   "mimetype": "text/x-python",
   "name": "python",
   "nbconvert_exporter": "python",
   "pygments_lexer": "ipython3",
   "version": "3.6.5"
  }
 },
 "nbformat": 4,
 "nbformat_minor": 2
}
