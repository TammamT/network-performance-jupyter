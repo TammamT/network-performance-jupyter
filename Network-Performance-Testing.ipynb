{
 "cells": [
  {
   "cell_type": "markdown",
   "metadata": {},
   "source": [
    " # Learning about network behavior with Mahi-Mahi\n",
    " \n",
    " ## Summary\n",
    " \n",
    "[mahimahi](http://mahimahi.mit.edu/) is a tool that allows network protocol developers to test different network conditions on a single machine. It comes with a bunch of options to spin up lightweight network containers that have links with different qualities. For instance, if you want to to test a link with a particular network delay, bandwidth, or queue size, you can do that quite easily.\n",
    " \n",
    "This jupyter notebook uses mahimahi to demonstrate how network traffic operates under different conditions.\n",
    " \n",
    "The logic behind the setup here was inspired by work done in developing [indigo](https://github.com/StanfordSNR/indigo/tree/master/env), a reinforcement learning-based congestion control algorithm.\n",
    " \n",
    " ## Installation\n",
    " \n",
    " I've only tested this on Ubuntu--if you are using MacOS or another operating system, I highly suggest using [Vagrant](https://www.vagrantup.com) to spin up a VM.\n",
    " \n",
    " ```bash\n",
    "$ sudo apt-get update\n",
    "$ sudo apt-get install mahimahi python-pip -y\n",
    "$ sudo apt-get install python3-pip\n",
    "$ pip3 install jupyter\n",
    "\n",
    "$ # This needs to run every time you restart the computer\n",
    "$ sudo sysctl -w net.ipv4.ip_forward=1\n",
    " ```\n",
    " \n",
    " ## Usage\n",
    " \n",
    "Scroll down to the bottom of the notebook to see full examples, but here's a quick start:\n",
    "\n",
    "```python\n",
    "\n",
    "mahimahi_settings = {\n",
    "    'delay': 100,\n",
    "    'queue_size': 1,\n",
    "    'trace_file': TRACE_FILES['114.68MBPS']\n",
    "}\n",
    "\n",
    "run_with_mahi_settings(mahimahi_settings, 10)\n",
    "```\n",
    "\n",
    "The `run_with_mahi_settings` function takes some settings, notably a `delay`, `queue_size`, and `trace_file`, along with a number of seconds that it should run for, and then prints out some statistics on what happened. What this does is create a single sender/receiver pair that send UDP packets to one another over the mahimahi boundary.\n",
    "\n",
    "This UDP connection, while not actually TCP, is a decent way of simulating how TCP would perform over those\n",
    "network conditions.\n",
    "\n",
    " \n",
    " ## More Details\n",
    " \n",
    " ### Trace Files\n",
    " \n",
    " The trace files were taken from [this repo](https://github.com/StanfordSNR/indigo/tree/master/env)\n",
    " \n",
    " This repository comes with a number of trace files in the `traces/` folder. These were taken from [this repo](https://github.com/StanfordSNR/indigo/tree/master/env). Each of these is a list of timestamps\n",
    " at which the link can send a 1500 byte packet, and it is used to set the bandwidth of the network. For a 12mbps\n",
    " (1500 bytes), it would contain numbers matching:\n",
    " \n",
    " ```\n",
    " 1\n",
    " 2\n",
    " 3\n",
    " 4\n",
    " ...\n",
    " ```\n",
    " \n",
    " ## TODO\n",
    "\n",
    "I will be adding implementations of different congestion control algorithms here and comparing how each of them\n",
    "does under different networking conditions.\n"
   ]
  },
  {
   "cell_type": "code",
   "execution_count": 1,
   "metadata": {},
   "outputs": [],
   "source": [
    "import socket\n",
    "import select\n",
    "import json\n",
    "import time\n",
    "import matplotlib.pyplot as plt\n",
    "from subprocess import Popen\n",
    "from typing import Dict\n",
    "from typing import List\n",
    "from threading import Thread"
   ]
  },
  {
   "cell_type": "code",
   "execution_count": 2,
   "metadata": {},
   "outputs": [],
   "source": [
    "RECEIVER_FILE = \"run_receiver.py\""
   ]
  },
  {
   "cell_type": "code",
   "execution_count": 3,
   "metadata": {},
   "outputs": [],
   "source": [
    "TRACE_FILES = {\n",
    "    '0.57MBPS': '0.57mbps-poisson.trace',\n",
    "    '2.64MBPS': '2.64mbps-poisson.trace',\n",
    "    '3.04MBPS': '3.04mbps-poisson.trace',\n",
    "    '100.42MBPS': '100.42mbps.trace',\n",
    "    '114.68MBPS': '114.68mbps.trace'\n",
    "}"
   ]
  },
  {
   "cell_type": "code",
   "execution_count": 4,
   "metadata": {},
   "outputs": [],
   "source": [
    "# Helper methods\n",
    "\n",
    "def generate_mahimahi_command(mahimahi_settings: Dict):\n",
    "    if mahimahi_settings.get('loss'):\n",
    "        loss_directive = \"mm-loss downlink %f\" % mahimahi_settings.get('loss')\n",
    "    else:\n",
    "        loss_directive = \"\"\n",
    "    return \"mm-delay {delay} {loss_directive} mm-link traces/{trace_file} traces/{trace_file} --downlink-queue=droptail --downlink-queue-args=packets={queue_size}\".format(\n",
    "      delay=mahimahi_settings['delay'],\n",
    "      queue_size=mahimahi_settings['queue_size'],\n",
    "      loss_directive=loss_directive,\n",
    "      trace_file=mahimahi_settings['trace_file']\n",
    "    )\n",
    "        \n",
    "def get_open_udp_port():\n",
    "    s = socket.socket(socket.AF_INET, socket.SOCK_DGRAM)\n",
    "    s.setsockopt(socket.SOL_SOCKET, socket.SO_REUSEADDR, 1)\n",
    "\n",
    "    s.bind(('', 0))\n",
    "    port = s.getsockname()[1]\n",
    "    s.close()\n",
    "    return port\n",
    "\n",
    "        \n",
    "def print_performance(sender, num_seconds: int):\n",
    "    print(\"Results for sender %d:\" % sender.port)\n",
    "    print(\"Total Acks: %d\" % sender.total_acks)\n",
    "    print(\"Num Duplicate Acks: %d\" % sender.num_duplicate_acks)\n",
    "    print(\"%% duplicate acks: %f\" % ((float(sender.num_duplicate_acks * 100))/sender.total_acks))\n",
    "    print(\"Total bytes sent: %d\" % sender.sent_bytes)\n",
    "    print(\"Throughput (bytes/s): %f\" % (sender.sent_bytes/num_seconds))\n",
    "    print(\"Average RTT (ms): %f\" % ((float(sum(sender.rtts))/len(sender.rtts)) * 1000))\n",
    "    \n",
    "    timestamps = [ ack[0] for ack in sender.times_of_acknowledgements]\n",
    "    seq_nums = [ ack[1] for ack in sender.times_of_acknowledgements]\n",
    "\n",
    "    plt.scatter(timestamps, seq_nums)\n",
    "    plt.xlabel(\"Timestamps\")\n",
    "    plt.ylabel(\"Sequence Numbers\")\n",
    "\n",
    "    plt.show()\n",
    "    \n",
    "    plt.plot(sender.cwnds)\n",
    "    plt.xlabel(\"Time\")\n",
    "    plt.ylabel(\"Congestion Window Size\")\n",
    "    plt.show()\n",
    "    print(\"\")\n"
   ]
  },
  {
   "cell_type": "code",
   "execution_count": 5,
   "metadata": {},
   "outputs": [],
   "source": [
    "READ_FLAGS = select.POLLIN | select.POLLPRI\n",
    "WRITE_FLAGS = select.POLLOUT\n",
    "ERR_FLAGS = select.POLLERR | select.POLLHUP | select.POLLNVAL\n",
    "READ_ERR_FLAGS = READ_FLAGS | ERR_FLAGS\n",
    "ALL_FLAGS = READ_FLAGS | WRITE_FLAGS | ERR_FLAGS"
   ]
  },
  {
   "cell_type": "code",
   "execution_count": 6,
   "metadata": {},
   "outputs": [],
   "source": [
    "class Sender(object):\n",
    "    def __init__(self, port: int) -> None:\n",
    "        self.port = port\n",
    "        self.sock = socket.socket(socket.AF_INET, socket.SOCK_DGRAM)\n",
    "        self.sock.setsockopt(socket.SOL_SOCKET, socket.SO_REUSEADDR, 1)\n",
    "        self.sock.bind(('0.0.0.0', port))\n",
    "        self.poller = select.poll()\n",
    "        self.poller.register(self.sock, ALL_FLAGS)\n",
    "        self.poller.modify(self.sock, ALL_FLAGS)\n",
    "        self.peer_addr = None\n",
    "        \n",
    "        # Congestion control variables\n",
    "        self.seq_num = 0\n",
    "        self.next_ack = 0\n",
    "\n",
    "        # Variables for the reinforment learning\n",
    "        self.sent_bytes = 0\n",
    "\n",
    "        self.min_rtt = float('inf')\n",
    "        \n",
    "        self.unacknowledged_packets = {}\n",
    "        self.rtts = []\n",
    "        self.start_time = time.time()\n",
    "        self.total_acks = 0\n",
    "        self.num_duplicate_acks = 0\n",
    "        self.curr_duplicate_acks = 0\n",
    "        self.cwnds = []\n",
    "        # List of tuples of ack_time and seq_num\n",
    "        self.times_of_acknowledgements = []\n",
    "        \n",
    "        \n",
    "        if self.cwnd == None:\n",
    "            raise \"No initial setting for cwnd\"\n",
    "        \n",
    "    def window_is_open(self):\n",
    "        # Returns true if the congestion window is not full\n",
    "        return self.seq_num - self.next_ack < self.cwnd\n",
    "\n",
    "    def send(self):\n",
    "        raise NotImplementedError\n",
    "    \n",
    "    def recv(self):\n",
    "        raise NotImplementedError\n",
    "\n",
    "\n",
    "    def handshake(self):\n",
    "        \"\"\"Handshake to establish connection with receiver.\"\"\"\n",
    "\n",
    "        while True:\n",
    "            msg, addr = self.sock.recvfrom(1600)\n",
    "            parsed_handshake = json.loads(msg.decode())\n",
    "            if parsed_handshake.get('handshake') and self.peer_addr is None:\n",
    "                self.peer_addr = addr\n",
    "                self.sock.sendto(json.dumps({'handshake': True}).encode(), self.peer_addr)\n",
    "                print('[sender] Connected to receiver: %s:%s\\n' % addr)\n",
    "                break\n",
    "        self.sock.setblocking(0)\n",
    "\n",
    "    def run(self, seconds_to_run: int):\n",
    "        curr_flags = ALL_FLAGS\n",
    "        TIMEOUT = 1000  # ms\n",
    "        start_time = time.time()\n",
    "\n",
    "        while time.time() - start_time < seconds_to_run:\n",
    "\n",
    "            events = self.poller.poll(TIMEOUT)\n",
    "            if not events:\n",
    "                self.send()\n",
    "            for fd, flag in events:\n",
    "                assert self.sock.fileno() == fd\n",
    "\n",
    "                if flag & ERR_FLAGS:\n",
    "                    sys.exit('Error occurred to the channel')\n",
    "\n",
    "                if flag & READ_FLAGS:\n",
    "                    self.recv()\n",
    "\n",
    "                if flag & WRITE_FLAGS:\n",
    "                    if self.window_is_open():\n",
    "                        self.send()\n"
   ]
  },
  {
   "cell_type": "code",
   "execution_count": 7,
   "metadata": {},
   "outputs": [],
   "source": [
    "class FixedWindowSender(Sender):\n",
    "    def __init__(self, cwnd: int, port: int) -> None:\n",
    "        self.cwnd = cwnd\n",
    "                \n",
    "        super().__init__(port)\n",
    "\n",
    "\n",
    "    def send(self):\n",
    "        serialized_data = json.dumps({\n",
    "            'seq_num': self.seq_num,\n",
    "            'send_ts': time.time(),\n",
    "            'sent_bytes': self.sent_bytes\n",
    "        })\n",
    "        self.unacknowledged_packets[self.seq_num] = True\n",
    "        self.seq_num += 1\n",
    "        self.sock.sendto(serialized_data.encode(), self.peer_addr)\n",
    "        time.sleep(0)\n",
    "    \n",
    "    def recv(self):\n",
    "        serialized_ack, addr = self.sock.recvfrom(1600)\n",
    "\n",
    "        ack = json.loads(serialized_ack.decode())\n",
    "        if ack.get('handshake'):\n",
    "            return\n",
    "        \n",
    "        self.total_acks += 1\n",
    "        self.times_of_acknowledgements.append(((time.time() - self.start_time), ack['seq_num']))\n",
    "        if self.unacknowledged_packets.get(ack['seq_num']) is None:\n",
    "            # Duplicate ack\n",
    "            self.num_duplicate_acks += 1\n",
    "            self.curr_duplicate_acks += 1\n",
    "            \n",
    "            if self.curr_duplicate_acks == 3:\n",
    "                # Received 3 duplicate acks, retransmit\n",
    "                self.curr_duplicate_acks = 0\n",
    "                self.seq_num = ack['seq_num'] + 1\n",
    "        else:\n",
    "            del self.unacknowledged_packets[ack['seq_num']]\n",
    "            self.next_ack = max(self.next_ack, ack['seq_num'] + 1)\n",
    "            self.sent_bytes += ack['ack_bytes']\n",
    "            rtt = float(time.time() - ack['send_ts'])\n",
    "            self.rtts.append(rtt)\n",
    "        self.cwnds.append(self.cwnd) \n",
    "\n"
   ]
  },
  {
   "cell_type": "code",
   "execution_count": 8,
   "metadata": {},
   "outputs": [],
   "source": [
    "class TahoeSender(Sender):\n",
    "    def __init__(self, slow_start_thresh: int, initial_cwnd: int, port: int) -> None:\n",
    "        self.initial_cwnd = initial_cwnd\n",
    "        self.cwnd = initial_cwnd\n",
    "        self.slow_start_thresh = slow_start_thresh\n",
    "\n",
    "        super().__init__(port)\n",
    "\n",
    "\n",
    "    def send(self):\n",
    "        serialized_data = json.dumps({\n",
    "            'seq_num': self.seq_num,\n",
    "            'send_ts': time.time(),\n",
    "            'sent_bytes': self.sent_bytes\n",
    "        })\n",
    "        self.unacknowledged_packets[self.seq_num] = True\n",
    "        self.seq_num += 1\n",
    "        self.sock.sendto(serialized_data.encode(), self.peer_addr)\n",
    "        time.sleep(0)\n",
    "    \n",
    "    def recv(self):\n",
    "        serialized_ack, addr = self.sock.recvfrom(1600)\n",
    "\n",
    "        ack = json.loads(serialized_ack.decode())\n",
    "        if ack.get('handshake'):\n",
    "            return\n",
    "        \n",
    "        self.total_acks += 1\n",
    "        self.times_of_acknowledgements.append(((time.time() - self.start_time), ack['seq_num']))\n",
    "\n",
    "        if self.unacknowledged_packets.get(ack['seq_num']) is None:\n",
    "            # Duplicate ack\n",
    "\n",
    "            self.num_duplicate_acks += 1\n",
    "            self.curr_duplicate_acks += 1\n",
    "            \n",
    "            if self.curr_duplicate_acks == 3:\n",
    "                # Received 3 duplicate acks, retransmit\n",
    "                self.curr_duplicate_acks = 0\n",
    "                self.seq_num = ack['seq_num'] + 1\n",
    "                self.slow_start_thresh = self.cwnd/2\n",
    "                self.cwnd = self.initial_cwnd\n",
    "        else:\n",
    "            del self.unacknowledged_packets[ack['seq_num']]\n",
    "            self.next_ack = max(self.next_ack, ack['seq_num'] + 1)\n",
    "            self.sent_bytes += ack['ack_bytes']\n",
    "            rtt = float(time.time() - ack['send_ts'])\n",
    "            self.rtts.append(rtt)\n",
    "            if self.cwnd < self.slow_start_thresh:\n",
    "                # In slow start\n",
    "                self.cwnd += 1 \n",
    "            elif ack['seq_num'] % self.cwnd == 0:\n",
    "                # In congestion avoidance\n",
    "                self.cwnd += 1\n",
    "    \n",
    "        self.cwnds.append(self.cwnd) "
   ]
  },
  {
   "cell_type": "code",
   "execution_count": 9,
   "metadata": {},
   "outputs": [],
   "source": [
    "class RenoSender(Sender):\n",
    "    def __init__(self, slow_start_thresh: int, initial_cwnd: int, port: int) -> None:\n",
    "        self.initial_cwnd = initial_cwnd\n",
    "        self.cwnd = initial_cwnd\n",
    "        self.slow_start_thresh = slow_start_thresh\n",
    "\n",
    "        super().__init__(port)\n",
    "\n",
    "\n",
    "    def send(self):\n",
    "        serialized_data = json.dumps({\n",
    "            'seq_num': self.seq_num,\n",
    "            'send_ts': time.time(),\n",
    "            'sent_bytes': self.sent_bytes\n",
    "        })\n",
    "        self.unacknowledged_packets[self.seq_num] = True\n",
    "        self.seq_num += 1\n",
    "        self.sock.sendto(serialized_data.encode(), self.peer_addr)\n",
    "        time.sleep(0)\n",
    "    \n",
    "    def recv(self):\n",
    "        serialized_ack, addr = self.sock.recvfrom(1600)\n",
    "\n",
    "        ack = json.loads(serialized_ack.decode())\n",
    "        if ack.get('handshake'):\n",
    "            return\n",
    "        \n",
    "        self.total_acks += 1\n",
    "        self.times_of_acknowledgements.append(((time.time() - self.start_time), ack['seq_num']))\n",
    "\n",
    "        if self.unacknowledged_packets.get(ack['seq_num']) is None:\n",
    "            # Duplicate ack\n",
    "\n",
    "            self.num_duplicate_acks += 1\n",
    "            self.curr_duplicate_acks += 1\n",
    "            \n",
    "            if self.curr_duplicate_acks == 3:\n",
    "                # Received 3 duplicate acks, retransmit\n",
    "                self.curr_duplicate_acks = 0\n",
    "                self.seq_num = ack['seq_num'] + 1\n",
    "                self.slow_start_thresh = self.cwnd/2\n",
    "                self.cwnd = self.slow_start_thresh\n",
    "        else:\n",
    "            del self.unacknowledged_packets[ack['seq_num']]\n",
    "            self.next_ack = max(self.next_ack, ack['seq_num'] + 1)\n",
    "            self.sent_bytes += ack['ack_bytes']\n",
    "            rtt = float(time.time() - ack['send_ts'])\n",
    "            self.rtts.append(rtt)\n",
    "            if self.cwnd < self.slow_start_thresh:\n",
    "                # In slow start\n",
    "                self.cwnd += 1 \n",
    "            elif ack['seq_num'] % self.cwnd == 0:\n",
    "                # In congestion avoidance\n",
    "                self.cwnd += 1\n",
    "    \n",
    "        self.cwnds.append(self.cwnd) "
   ]
  },
  {
   "cell_type": "code",
   "execution_count": 10,
   "metadata": {},
   "outputs": [],
   "source": [
    "def run_with_mahi_settings(mahimahi_settings: Dict, seconds_to_run: int, senders: List):\n",
    "    mahimahi_cmd = generate_mahimahi_command(mahimahi_settings)\n",
    "\n",
    "    sender_ports = \" \".join([\"$MAHIMAHI_BASE %s\" % sender.port for sender in senders])\n",
    "    \n",
    "    cmd = \"%s -- sh -c 'python3 %s %s'\" % (mahimahi_cmd, RECEIVER_FILE, sender_ports)\n",
    "    receiver_process = Popen(cmd, shell=True)\n",
    "    for sender in senders:\n",
    "        sender.handshake()\n",
    "    threads = [Thread(target=sender.run, args=[seconds_to_run]) for sender in senders]\n",
    "    for thread in threads:\n",
    "        thread.start()\n",
    "    for thread in threads:\n",
    "        thread.join()\n",
    "    \n",
    "    for sender in senders:\n",
    "        print_performance(sender, seconds_to_run)\n",
    "    receiver_process.kill()"
   ]
  },
  {
   "cell_type": "code",
   "execution_count": 11,
   "metadata": {},
   "outputs": [
    {
     "name": "stdout",
     "output_type": "stream",
     "text": [
      "[sender] Connected to receiver: 100.64.0.2:36532\n",
      "\n",
      "Results for sender 35829:\n",
      "Total Acks: 3995\n",
      "Num Duplicate Acks: 345\n",
      "% duplicate acks: 8.635795\n",
      "Total bytes sent: 251665\n",
      "Throughput (bytes/s): 2097.208333\n",
      "Average RTT (ms): 213.751742\n"
     ]
    },
    {
     "data": {
      "image/png": "[encoded data removed]",
      "text/plain": [
       "<Figure size 432x288 with 1 Axes>"
      ]
     },
     "metadata": {},
     "output_type": "display_data"
    },
    {
     "data": {
      "image/png": "[encoded data removed]",
      "text/plain": [
       "<Figure size 432x288 with 1 Axes>"
      ]
     },
     "metadata": {},
     "output_type": "display_data"
    },
    {
     "name": "stdout",
     "output_type": "stream",
     "text": [
      "\n"
     ]
    }
   ],
   "source": [
    "# Test of multiple senders\n",
    "\n",
    "\n",
    "mahimahi_settings = {\n",
    "    'delay': 88,\n",
    "    'queue_size': 40,\n",
    "    'trace_file': TRACE_FILES['2.64MBPS']\n",
    "}\n",
    "port = get_open_udp_port()\n",
    "port2 = get_open_udp_port()\n",
    "\n",
    "run_with_mahi_settings(mahimahi_settings, 120, [FixedWindowSender(1000, port)])"
   ]
  },
  {
   "cell_type": "code",
   "execution_count": 12,
   "metadata": {},
   "outputs": [
    {
     "name": "stdout",
     "output_type": "stream",
     "text": [
      "[sender] Connected to receiver: 100.64.0.4:53287\n",
      "\n",
      "Results for sender 50764:\n",
      "Total Acks: 25874\n",
      "Num Duplicate Acks: 30\n",
      "% duplicate acks: 0.115947\n",
      "Total bytes sent: 1826747\n",
      "Throughput (bytes/s): 15222.891667\n",
      "Average RTT (ms): 198.400031\n"
     ]
    },
    {
     "data": {
      "image/png": "[encoded data removed]",
      "text/plain": [
       "<Figure size 432x288 with 1 Axes>"
      ]
     },
     "metadata": {},
     "output_type": "display_data"
    },
    {
     "data": {
      "image/png": "[encoded data removed]",
      "text/plain": [
       "<Figure size 432x288 with 1 Axes>"
      ]
     },
     "metadata": {},
     "output_type": "display_data"
    },
    {
     "name": "stdout",
     "output_type": "stream",
     "text": [
      "\n"
     ]
    }
   ],
   "source": [
    "mahimahi_settings = {\n",
    "    'delay': 88,\n",
    "    'queue_size': 40,\n",
    "    'trace_file': TRACE_FILES['2.64MBPS']\n",
    "}\n",
    "port = get_open_udp_port()\n",
    "port2 = get_open_udp_port()\n",
    "\n",
    "run_with_mahi_settings(mahimahi_settings, 120, [RenoSender(50, 1, port)])\n"
   ]
  },
  {
   "cell_type": "code",
   "execution_count": 13,
   "metadata": {},
   "outputs": [
    {
     "ename": "KeyboardInterrupt",
     "evalue": "",
     "output_type": "error",
     "traceback": [
      "\u001b[0;31m---------------------------------------------------------------------------\u001b[0m",
      "\u001b[0;31mKeyboardInterrupt\u001b[0m                         Traceback (most recent call last)",
      "\u001b[0;32m<ipython-input-13-76995bdf2f6e>\u001b[0m in \u001b[0;36m<module>\u001b[0;34m()\u001b[0m\n\u001b[1;32m      7\u001b[0m \u001b[0mport2\u001b[0m \u001b[0;34m=\u001b[0m \u001b[0mget_open_udp_port\u001b[0m\u001b[0;34m(\u001b[0m\u001b[0;34m)\u001b[0m\u001b[0;34m\u001b[0m\u001b[0m\n\u001b[1;32m      8\u001b[0m \u001b[0;34m\u001b[0m\u001b[0m\n\u001b[0;32m----> 9\u001b[0;31m \u001b[0mrun_with_mahi_settings\u001b[0m\u001b[0;34m(\u001b[0m\u001b[0mmahimahi_settings\u001b[0m\u001b[0;34m,\u001b[0m \u001b[0;36m120\u001b[0m\u001b[0;34m,\u001b[0m \u001b[0;34m[\u001b[0m\u001b[0mFixedWindowSender\u001b[0m\u001b[0;34m(\u001b[0m\u001b[0;36m1000\u001b[0m\u001b[0;34m,\u001b[0m \u001b[0mport\u001b[0m\u001b[0;34m)\u001b[0m\u001b[0;34m,\u001b[0m \u001b[0mFixedWindowSender\u001b[0m\u001b[0;34m(\u001b[0m\u001b[0;36m1000\u001b[0m\u001b[0;34m,\u001b[0m \u001b[0mport\u001b[0m\u001b[0;34m)\u001b[0m\u001b[0;34m]\u001b[0m\u001b[0;34m)\u001b[0m\u001b[0;34m\u001b[0m\u001b[0m\n\u001b[0m",
      "\u001b[0;32m<ipython-input-10-cf12d6a5e730>\u001b[0m in \u001b[0;36mrun_with_mahi_settings\u001b[0;34m(mahimahi_settings, seconds_to_run, senders)\u001b[0m\n\u001b[1;32m      7\u001b[0m     \u001b[0mreceiver_process\u001b[0m \u001b[0;34m=\u001b[0m \u001b[0mPopen\u001b[0m\u001b[0;34m(\u001b[0m\u001b[0mcmd\u001b[0m\u001b[0;34m,\u001b[0m \u001b[0mshell\u001b[0m\u001b[0;34m=\u001b[0m\u001b[0;32mTrue\u001b[0m\u001b[0;34m)\u001b[0m\u001b[0;34m\u001b[0m\u001b[0m\n\u001b[1;32m      8\u001b[0m     \u001b[0;32mfor\u001b[0m \u001b[0msender\u001b[0m \u001b[0;32min\u001b[0m \u001b[0msenders\u001b[0m\u001b[0;34m:\u001b[0m\u001b[0;34m\u001b[0m\u001b[0m\n\u001b[0;32m----> 9\u001b[0;31m         \u001b[0msender\u001b[0m\u001b[0;34m.\u001b[0m\u001b[0mhandshake\u001b[0m\u001b[0;34m(\u001b[0m\u001b[0;34m)\u001b[0m\u001b[0;34m\u001b[0m\u001b[0m\n\u001b[0m\u001b[1;32m     10\u001b[0m     \u001b[0mthreads\u001b[0m \u001b[0;34m=\u001b[0m \u001b[0;34m[\u001b[0m\u001b[0mThread\u001b[0m\u001b[0;34m(\u001b[0m\u001b[0mtarget\u001b[0m\u001b[0;34m=\u001b[0m\u001b[0msender\u001b[0m\u001b[0;34m.\u001b[0m\u001b[0mrun\u001b[0m\u001b[0;34m,\u001b[0m \u001b[0margs\u001b[0m\u001b[0;34m=\u001b[0m\u001b[0;34m[\u001b[0m\u001b[0mseconds_to_run\u001b[0m\u001b[0;34m]\u001b[0m\u001b[0;34m)\u001b[0m \u001b[0;32mfor\u001b[0m \u001b[0msender\u001b[0m \u001b[0;32min\u001b[0m \u001b[0msenders\u001b[0m\u001b[0;34m]\u001b[0m\u001b[0;34m\u001b[0m\u001b[0m\n\u001b[1;32m     11\u001b[0m     \u001b[0;32mfor\u001b[0m \u001b[0mthread\u001b[0m \u001b[0;32min\u001b[0m \u001b[0mthreads\u001b[0m\u001b[0;34m:\u001b[0m\u001b[0;34m\u001b[0m\u001b[0m\n",
      "\u001b[0;32m<ipython-input-6-891e3c417707>\u001b[0m in \u001b[0;36mhandshake\u001b[0;34m(self)\u001b[0m\n\u001b[1;32m     48\u001b[0m \u001b[0;34m\u001b[0m\u001b[0m\n\u001b[1;32m     49\u001b[0m         \u001b[0;32mwhile\u001b[0m \u001b[0;32mTrue\u001b[0m\u001b[0;34m:\u001b[0m\u001b[0;34m\u001b[0m\u001b[0m\n\u001b[0;32m---> 50\u001b[0;31m             \u001b[0mmsg\u001b[0m\u001b[0;34m,\u001b[0m \u001b[0maddr\u001b[0m \u001b[0;34m=\u001b[0m \u001b[0mself\u001b[0m\u001b[0;34m.\u001b[0m\u001b[0msock\u001b[0m\u001b[0;34m.\u001b[0m\u001b[0mrecvfrom\u001b[0m\u001b[0;34m(\u001b[0m\u001b[0;36m1600\u001b[0m\u001b[0;34m)\u001b[0m\u001b[0;34m\u001b[0m\u001b[0m\n\u001b[0m\u001b[1;32m     51\u001b[0m             \u001b[0mparsed_handshake\u001b[0m \u001b[0;34m=\u001b[0m \u001b[0mjson\u001b[0m\u001b[0;34m.\u001b[0m\u001b[0mloads\u001b[0m\u001b[0;34m(\u001b[0m\u001b[0mmsg\u001b[0m\u001b[0;34m.\u001b[0m\u001b[0mdecode\u001b[0m\u001b[0;34m(\u001b[0m\u001b[0;34m)\u001b[0m\u001b[0;34m)\u001b[0m\u001b[0;34m\u001b[0m\u001b[0m\n\u001b[1;32m     52\u001b[0m             \u001b[0;32mif\u001b[0m \u001b[0mparsed_handshake\u001b[0m\u001b[0;34m.\u001b[0m\u001b[0mget\u001b[0m\u001b[0;34m(\u001b[0m\u001b[0;34m'handshake'\u001b[0m\u001b[0;34m)\u001b[0m \u001b[0;32mand\u001b[0m \u001b[0mself\u001b[0m\u001b[0;34m.\u001b[0m\u001b[0mpeer_addr\u001b[0m \u001b[0;32mis\u001b[0m \u001b[0;32mNone\u001b[0m\u001b[0;34m:\u001b[0m\u001b[0;34m\u001b[0m\u001b[0m\n",
      "\u001b[0;31mKeyboardInterrupt\u001b[0m: "
     ]
    }
   ],
   "source": [
    "mahimahi_settings = {\n",
    "    'delay': 88,\n",
    "    'queue_size': 40,\n",
    "    'trace_file': TRACE_FILES['2.64MBPS']\n",
    "}\n",
    "port = get_open_udp_port()\n",
    "port2 = get_open_udp_port()\n",
    "\n",
    "run_with_mahi_settings(mahimahi_settings, 120, [FixedWindowSender(1000, port), FixedWindowSender(1000, port)])\n"
   ]
  },
  {
   "cell_type": "code",
   "execution_count": null,
   "metadata": {},
   "outputs": [],
   "source": [
    "mahimahi_settings = {\n",
    "    'delay': 88,\n",
    "    'queue_size': 40,\n",
    "    'trace_file': TRACE_FILES['2.64MBPS']\n",
    "}\n",
    "port = get_open_udp_port()\n",
    "port2 = get_open_udp_port()\n",
    "\n",
    "run_with_mahi_settings(mahimahi_settings, 120, [RenoSender(50, 1, port), RenoSender(50, 1, port)])\n"
   ]
  },
  {
   "cell_type": "code",
   "execution_count": 12,
   "metadata": {},
   "outputs": [
    {
     "name": "stdout",
     "output_type": "stream",
     "text": [
      "[sender] Connected to receiver: 100.64.0.2:38257\n",
      "\n",
      "[sender] Connected to receiver: 100.64.0.2:38257\n",
      "\n",
      "Results for sender 37342:\n",
      "Total Acks: 12759\n",
      "Num Duplicate Acks: 27\n",
      "% duplicate acks: 0.211615\n",
      "Total bytes sent: 887771\n",
      "Throughput (bytes/s): 7398.091667\n",
      "Average RTT (ms): 196.492768\n"
     ]
    },
    {
     "data": {
      "image/png": "[encoded data removed]",
      "text/plain": [
       "<Figure size 432x288 with 1 Axes>"
      ]
     },
     "metadata": {},
     "output_type": "display_data"
    },
    {
     "data": {
      "image/png": "[encoded data removed]",
      "text/plain": [
       "<Figure size 432x288 with 1 Axes>"
      ]
     },
     "metadata": {},
     "output_type": "display_data"
    },
    {
     "name": "stdout",
     "output_type": "stream",
     "text": [
      "\n",
      "Results for sender 54567:\n",
      "Total Acks: 16167\n",
      "Num Duplicate Acks: 30\n",
      "% duplicate acks: 0.185563\n",
      "Total bytes sent: 1130369\n",
      "Throughput (bytes/s): 9419.741667\n",
      "Average RTT (ms): 196.705268\n"
     ]
    },
    {
     "data": {
      "image/png": "[encoded data removed]",
      "text/plain": [
       "<Figure size 432x288 with 1 Axes>"
      ]
     },
     "metadata": {},
     "output_type": "display_data"
    },
    {
     "data": {
      "image/png": "[encoded data removed]",
      "text/plain": [
       "<Figure size 432x288 with 1 Axes>"
      ]
     },
     "metadata": {},
     "output_type": "display_data"
    },
    {
     "name": "stdout",
     "output_type": "stream",
     "text": [
      "\n"
     ]
    }
   ],
   "source": [
    "mahimahi_settings = {\n",
    "    'delay': 27,\n",
    "    'queue_size': 173,\n",
    "    'trace_file': TRACE_FILES['100.42MBPS']\n",
    "}\n",
    "port = get_open_udp_port()\n",
    "port2 = get_open_udp_port()\n",
    "\n",
    "run_with_mahi_settings(mahimahi_settings, 120, [RenoSender(50, 1, port)])\n"
   ]
  },
  {
   "cell_type": "code",
   "execution_count": 36,
   "metadata": {},
   "outputs": [],
   "source": [
    "mahimahi_settings = {\n",
    "    'delay': 27,\n",
    "    'queue_size': 173,\n",
    "    'trace_file': TRACE_FILES['100.42MBPS']\n",
    "}\n",
    "port = get_open_udp_port()\n",
    "port2 = get_open_udp_port()\n",
    "\n",
    "run_with_mahi_settings(mahimahi_settings, 120, [FixedWindowSender(1000, port)])\n"
   ]
  },
  {
   "cell_type": "code",
   "execution_count": null,
   "metadata": {},
   "outputs": [],
   "source": [
    "mahimahi_settings = {\n",
    "    'delay': 130,\n",
    "    'queue_size': 426,\n",
    "    'trace_file': TRACE_FILES['3.04MBPS']\n",
    "}"
   ]
  },
  {
   "cell_type": "code",
   "execution_count": null,
   "metadata": {},
   "outputs": [],
   "source": [
    "mahimahi_settings = {\n",
    "    'delay': 27,\n",
    "    'queue_size': 173,\n",
    "    'trace_file': TRACE_FILES['100.42MBPS']\n",
    "}\n"
   ]
  },
  {
   "cell_type": "code",
   "execution_count": null,
   "metadata": {},
   "outputs": [],
   "source": [
    "mahimahi_settings = {\n",
    "    'delay': 45,\n",
    "    'queue_size': 450,\n",
    "    'trace_file': TRACE_FILES['114.68MBPS']\n",
    "}\n"
   ]
  },
  {
   "cell_type": "code",
   "execution_count": null,
   "metadata": {},
   "outputs": [],
   "source": [
    "# Absurd Queue Size case\n",
    "\n",
    "mahimahi_settings = {\n",
    "    'delay': 100,\n",
    "    'queue_size': 1,\n",
    "    'trace_file': TRACE_FILES['114.68MBPS']\n",
    "}\n"
   ]
  }
 ],
 "metadata": {
  "kernelspec": {
   "display_name": "Python 3",
   "language": "python",
   "name": "python3"
  },
  "language_info": {
   "codemirror_mode": {
    "name": "ipython",
    "version": 3
   },
   "file_extension": ".py",
   "mimetype": "text/x-python",
   "name": "python",
   "nbconvert_exporter": "python",
   "pygments_lexer": "ipython3",
   "version": "3.6.5"
  }
 },
 "nbformat": 4,
 "nbformat_minor": 2
}
