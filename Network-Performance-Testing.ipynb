{
 "cells": [
  {
   "cell_type": "markdown",
   "metadata": {},
   "source": [
    " # Learning about network behavior with Mahi-Mahi\n",
    " \n",
    " ## Summary\n",
    " \n",
    "[mahimahi](http://mahimahi.mit.edu/) is a tool that allows network protocol developers to test different network conditions on a single machine. It comes with a bunch of options to spin up lightweight network containers that have links with different qualities. For instance, if you want to to test a link with a particular network delay, bandwidth, or queue size, you can do that quite easily.\n",
    " \n",
    "This jupyter notebook uses mahimahi to demonstrate how network traffic operates under different conditions.\n",
    " \n",
    "The logic behind the setup here was inspired by work done in developing [indigo](https://github.com/StanfordSNR/indigo/tree/master/env), a reinforcement learning-based congestion control algorithm.\n",
    " \n",
    " ## Installation\n",
    " \n",
    " I've only tested this on Ubuntu--if you are using MacOS or another operating system, I highly suggest using [Vagrant](https://www.vagrantup.com) to spin up a VM.\n",
    " \n",
    " ```bash\n",
    "$ sudo apt-get update\n",
    "$ sudo apt-get install mahimahi python-pip -y\n",
    "$ sudo apt-get install python3-pip\n",
    "$ pip3 install jupyter\n",
    "\n",
    "$ # This needs to run every time you restart the computer\n",
    "$ sudo sysctl -w net.ipv4.ip_forward=1\n",
    " ```\n",
    " \n",
    " ## Usage\n",
    " \n",
    "Scroll down to the bottom of the notebook to see full examples, but here's a quick start:\n",
    "\n",
    "```python\n",
    "\n",
    "mahimahi_settings = {\n",
    "    'delay': 100,\n",
    "    'queue_size': 1,\n",
    "    'trace_file': TRACE_FILES['114.68MBPS']\n",
    "}\n",
    "\n",
    "run_with_mahi_settings(mahimahi_settings, 10)\n",
    "```\n",
    "\n",
    "The `run_with_mahi_settings` function takes some settings, notably a `delay`, `queue_size`, and `trace_file`, along with a number of seconds that it should run for, and then prints out some statistics on what happened. What this does is create a single sender/receiver pair that send UDP packets to one another over the mahimahi boundary.\n",
    "\n",
    "This UDP connection, while not actually TCP, is a decent way of simulating how TCP would perform over those\n",
    "network conditions.\n",
    "\n",
    " \n",
    " ## More Details\n",
    " \n",
    " ### Trace Files\n",
    " \n",
    " The trace files were taken from [this repo](https://github.com/StanfordSNR/indigo/tree/master/env)\n",
    " \n",
    " This repository comes with a number of trace files in the `traces/` folder. These were taken from [this repo](https://github.com/StanfordSNR/indigo/tree/master/env). Each of these is a list of timestamps\n",
    " at which the link can send a 1500 byte packet, and it is used to set the bandwidth of the network. For a 12mbps\n",
    " (1500 bytes), it would contain numbers matching:\n",
    " \n",
    " ```\n",
    " 1\n",
    " 2\n",
    " 3\n",
    " 4\n",
    " ...\n",
    " ```\n",
    " \n",
    " ## TODO\n",
    "\n",
    "I will be adding implementations of different congestion control algorithms here and comparing how each of them\n",
    "does under different networking conditions.\n"
   ]
  },
  {
   "cell_type": "code",
   "execution_count": 1,
   "metadata": {},
   "outputs": [],
   "source": [
    "import socket\n",
    "import select\n",
    "import json\n",
    "import time\n",
    "from subprocess import Popen\n",
    "from typing import Dict"
   ]
  },
  {
   "cell_type": "code",
   "execution_count": 2,
   "metadata": {},
   "outputs": [],
   "source": [
    "RECEIVER_FILE = \"run_receiver.py\""
   ]
  },
  {
   "cell_type": "code",
   "execution_count": 3,
   "metadata": {},
   "outputs": [],
   "source": [
    "TRACE_FILES = {\n",
    "    '0.57MBPS': '0.57mbps-poisson.trace',\n",
    "    '2.64MBPS': '2.64mbps-poisson.trace',\n",
    "    '3.04MBPS': '3.04mbps-poisson.trace',\n",
    "    '100.42MBPS': '100.42mbps.trace',\n",
    "    '114.68MBPS': '114.68mbps.trace'\n",
    "}"
   ]
  },
  {
   "cell_type": "code",
   "execution_count": 4,
   "metadata": {},
   "outputs": [],
   "source": [
    "# Helper methods\n",
    "\n",
    "def generate_mahimahi_command(mahimahi_settings: Dict):\n",
    "    if mahimahi_settings.get('loss'):\n",
    "        loss_directive = \"mm-loss uplink %f\" % mahimahi_settings.get('loss')\n",
    "    else:\n",
    "        loss_directive = \"\"\n",
    "    return \"mm-delay {delay} {loss_directive} mm-link traces/{trace_file} traces/{trace_file} --uplink-queue=droptail --uplink-queue-args=packets={queue_size}\".format(\n",
    "      delay=mahimahi_settings['delay'],\n",
    "      queue_size=mahimahi_settings['queue_size'],\n",
    "      loss_directive=loss_directive,\n",
    "      trace_file=mahimahi_settings['trace_file']\n",
    "    )\n",
    "        \n",
    "def get_open_udp_port():\n",
    "    s = socket.socket(socket.AF_INET, socket.SOCK_DGRAM)\n",
    "    s.setsockopt(socket.SOL_SOCKET, socket.SO_REUSEADDR, 1)\n",
    "\n",
    "    s.bind(('', 0))\n",
    "    port = s.getsockname()[1]\n",
    "    s.close()\n",
    "    return port\n",
    "\n",
    "        \n",
    "def print_performance(sender):\n",
    "    print(\"Num Packets Lost: %s\" % len(sender.unacknowledged_packets))\n",
    "    print(\"Percent Packets Lost: %f%%\" % ((float(len(sender.unacknowledged_packets)) * 100)/sender.seq_num))\n",
    "    print(\"Total bytes sent: %d\" % sender.sent_bytes)\n",
    "    print(\"Average RTT: %f\" % (float(sum(sender.rtts))/len(sender.rtts)))\n"
   ]
  },
  {
   "cell_type": "code",
   "execution_count": 5,
   "metadata": {},
   "outputs": [],
   "source": [
    "READ_FLAGS = select.POLLIN | select.POLLPRI\n",
    "WRITE_FLAGS = select.POLLOUT\n",
    "ERR_FLAGS = select.POLLERR | select.POLLHUP | select.POLLNVAL\n",
    "READ_ERR_FLAGS = READ_FLAGS | ERR_FLAGS\n",
    "ALL_FLAGS = READ_FLAGS | WRITE_FLAGS | ERR_FLAGS"
   ]
  },
  {
   "cell_type": "code",
   "execution_count": 6,
   "metadata": {},
   "outputs": [],
   "source": [
    "\n",
    "\n",
    "class Sender(object):\n",
    "    def __init__(self, port: int) -> None:\n",
    "        self.sock = socket.socket(socket.AF_INET, socket.SOCK_DGRAM)\n",
    "        self.sock.setsockopt(socket.SOL_SOCKET, socket.SO_REUSEADDR, 1)\n",
    "        self.sock.bind(('0.0.0.0', port))\n",
    "        self.poller = select.poll()\n",
    "        self.poller.register(self.sock, ALL_FLAGS)\n",
    "        self.poller.modify(self.sock, ALL_FLAGS)\n",
    "        self.peer_addr = None\n",
    "        \n",
    "        # Congestion control variables\n",
    "        self.seq_num = 0\n",
    "        self.next_ack = 0\n",
    "        self.cwnd = 30.0\n",
    "\n",
    "        # Variables for the reinforment learning\n",
    "        self.sent_bytes = 0\n",
    "\n",
    "        self.min_rtt = float('inf')\n",
    "        \n",
    "        self.unacknowledged_packets = {}\n",
    "        self.rtts = []\n",
    "        self.start_time = time.time()\n",
    "        \n",
    "    def window_is_open(self):\n",
    "        # Returns true if the congestion window is not full\n",
    "        return self.seq_num - self.next_ack < self.cwnd\n",
    "\n",
    "    def send(self):\n",
    "        serialized_data = json.dumps({\n",
    "            'seq_num': self.seq_num,\n",
    "            'send_ts': time.time() - self.start_time,\n",
    "            'sent_bytes': self.sent_bytes\n",
    "        })\n",
    "        self.unacknowledged_packets[self.seq_num] = True\n",
    "        self.seq_num += 1\n",
    "        self.sent_bytes += len(serialized_data.encode())\n",
    "        self.sock.sendto(serialized_data.encode(), self.peer_addr)\n",
    "    \n",
    "    def recv(self):\n",
    "        serialized_ack, addr = self.sock.recvfrom(1600)\n",
    "\n",
    "        ack = json.loads(serialized_ack.decode())\n",
    "        if ack.get('handshake'):\n",
    "            return\n",
    "        del self.unacknowledged_packets[ack['seq_num']]\n",
    "\n",
    "        self.next_ack = max(self.next_ack, ack['seq_num'] + 1)\n",
    "        curr_time_ms = time.time() - self.start_time\n",
    "        rtt = float(curr_time_ms - ack['send_ts'])\n",
    "        self.rtts.append(rtt)\n",
    "\n",
    "    def handshake(self):\n",
    "        \"\"\"Handshake to establish connection with receiver.\"\"\"\n",
    "\n",
    "        while True:\n",
    "            msg, addr = self.sock.recvfrom(1600)\n",
    "            parsed_handshake = json.loads(msg.decode())\n",
    "            if parsed_handshake.get('handshake') and self.peer_addr is None:\n",
    "                self.peer_addr = addr\n",
    "                self.sock.sendto(json.dumps({'handshake': True}).encode(), self.peer_addr)\n",
    "                print('[sender] Connected to receiver: %s:%s\\n' % addr)\n",
    "                break\n",
    "        self.sock.setblocking(0)\n",
    "\n",
    "    def run(self, seconds_to_run: int):\n",
    "        curr_flags = ALL_FLAGS\n",
    "        TIMEOUT = 1000  # ms\n",
    "        start_time = time.time()\n",
    "\n",
    "        while time.time() - start_time < seconds_to_run:\n",
    "            events = self.poller.poll(TIMEOUT)\n",
    "            if not events:\n",
    "                self.send()\n",
    "            for fd, flag in events:\n",
    "                assert self.sock.fileno() == fd\n",
    "\n",
    "                if flag & ERR_FLAGS:\n",
    "                    sys.exit('Error occurred to the channel')\n",
    "\n",
    "                if flag & READ_FLAGS:\n",
    "                    self.recv()\n",
    "\n",
    "                if flag & WRITE_FLAGS:\n",
    "                    if self.window_is_open():\n",
    "                        self.send()\n",
    "\n",
    "    \n",
    "def run_with_mahi_settings(mahimahi_settings: Dict, seconds_to_run: int):\n",
    "    mahimahi_cmd = generate_mahimahi_command(mahimahi_settings)\n",
    "    port = get_open_udp_port()\n",
    "    sender = Sender(port)\n",
    "    cmd = \"%s -- sh -c 'python %s $MAHIMAHI_BASE %s'\" % (mahimahi_cmd, RECEIVER_FILE, port)\n",
    "    receiver_process = Popen(cmd, shell=True)\n",
    "    sender.handshake()\n",
    "    sender.run(seconds_to_run)\n",
    "    print_performance(sender)"
   ]
  },
  {
   "cell_type": "code",
   "execution_count": 7,
   "metadata": {},
   "outputs": [
    {
     "name": "stdout",
     "output_type": "stream",
     "text": [
      "[sender] Connected to receiver: 100.64.0.70:43810\n",
      "\n",
      "Num Packets Lost: 78\n",
      "Percent Packets Lost: 16.993464%\n",
      "Total bytes sent: 30790\n",
      "Average RTT: 0.134972\n"
     ]
    }
   ],
   "source": [
    "mahimahi_settings = {\n",
    "    'delay': 28,\n",
    "    'queue_size': 14,\n",
    "    'loss': 0.0477,\n",
    "    'trace_file': TRACE_FILES['0.57MBPS']\n",
    "}\n",
    "run_with_mahi_settings(mahimahi_settings, 10)"
   ]
  },
  {
   "cell_type": "code",
   "execution_count": 8,
   "metadata": {},
   "outputs": [
    {
     "name": "stdout",
     "output_type": "stream",
     "text": [
      "[sender] Connected to receiver: 100.64.0.72:33201\n",
      "\n",
      "Num Packets Lost: 30\n",
      "Percent Packets Lost: 2.304147%\n",
      "Total bytes sent: 87477\n",
      "Average RTT: 0.232700\n"
     ]
    }
   ],
   "source": [
    "mahimahi_settings = {\n",
    "    'delay': 88,\n",
    "    'queue_size': 130,\n",
    "    'trace_file': TRACE_FILES['2.64MBPS']\n",
    "}\n",
    "\n",
    "run_with_mahi_settings(mahimahi_settings, 10)"
   ]
  },
  {
   "cell_type": "code",
   "execution_count": 9,
   "metadata": {},
   "outputs": [
    {
     "name": "stdout",
     "output_type": "stream",
     "text": [
      "[sender] Connected to receiver: 100.64.0.74:51183\n",
      "\n",
      "Num Packets Lost: 30\n",
      "Percent Packets Lost: 3.048780%\n",
      "Total bytes sent: 65841\n",
      "Average RTT: 0.310946\n"
     ]
    }
   ],
   "source": [
    "mahimahi_settings = {\n",
    "    'delay': 130,\n",
    "    'queue_size': 426,\n",
    "    'trace_file': TRACE_FILES['3.04MBPS']\n",
    "}\n",
    "\n",
    "run_with_mahi_settings(mahimahi_settings, 10)"
   ]
  },
  {
   "cell_type": "code",
   "execution_count": 10,
   "metadata": {},
   "outputs": [
    {
     "name": "stdout",
     "output_type": "stream",
     "text": [
      "[sender] Connected to receiver: 100.64.0.76:46441\n",
      "\n",
      "Num Packets Lost: 30\n",
      "Percent Packets Lost: 0.571429%\n",
      "Total bytes sent: 360774\n",
      "Average RTT: 0.057304\n"
     ]
    }
   ],
   "source": [
    "mahimahi_settings = {\n",
    "    'delay': 27,\n",
    "    'queue_size': 173,\n",
    "    'trace_file': TRACE_FILES['100.42MBPS']\n",
    "}\n",
    "\n",
    "run_with_mahi_settings(mahimahi_settings, 10)"
   ]
  },
  {
   "cell_type": "code",
   "execution_count": 11,
   "metadata": {},
   "outputs": [
    {
     "name": "stdout",
     "output_type": "stream",
     "text": [
      "[sender] Connected to receiver: 100.64.0.78:40338\n",
      "\n",
      "Num Packets Lost: 30\n",
      "Percent Packets Lost: 0.967430%\n",
      "Total bytes sent: 211947\n",
      "Average RTT: 0.097303\n"
     ]
    }
   ],
   "source": [
    "mahimahi_settings = {\n",
    "    'delay': 45,\n",
    "    'queue_size': 450,\n",
    "    'trace_file': TRACE_FILES['114.68MBPS']\n",
    "}\n",
    "\n",
    "run_with_mahi_settings(mahimahi_settings, 10)"
   ]
  },
  {
   "cell_type": "code",
   "execution_count": 12,
   "metadata": {},
   "outputs": [
    {
     "name": "stdout",
     "output_type": "stream",
     "text": [
      "[sender] Connected to receiver: 100.64.0.80:60693\n",
      "\n",
      "Num Packets Lost: 919\n",
      "Percent Packets Lost: 87.523810%\n",
      "Total bytes sent: 70380\n",
      "Average RTT: 0.207393\n"
     ]
    }
   ],
   "source": [
    "# Absurd Queue Size case\n",
    "\n",
    "mahimahi_settings = {\n",
    "    'delay': 100,\n",
    "    'queue_size': 1,\n",
    "    'trace_file': TRACE_FILES['114.68MBPS']\n",
    "}\n",
    "\n",
    "run_with_mahi_settings(mahimahi_settings, 10)"
   ]
  }
 ],
 "metadata": {
  "kernelspec": {
   "display_name": "Python 3",
   "language": "python",
   "name": "python3"
  },
  "language_info": {
   "codemirror_mode": {
    "name": "ipython",
    "version": 3
   },
   "file_extension": ".py",
   "mimetype": "text/x-python",
   "name": "python",
   "nbconvert_exporter": "python",
   "pygments_lexer": "ipython3",
   "version": "3.6.5"
  }
 },
 "nbformat": 4,
 "nbformat_minor": 2
}
